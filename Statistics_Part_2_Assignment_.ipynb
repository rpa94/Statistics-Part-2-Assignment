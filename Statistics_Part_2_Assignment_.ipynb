{
  "nbformat": 4,
  "nbformat_minor": 0,
  "metadata": {
    "colab": {
      "provenance": []
    },
    "kernelspec": {
      "name": "python3",
      "display_name": "Python 3"
    },
    "language_info": {
      "name": "python"
    }
  },
  "cells": [
    {
      "cell_type": "markdown",
      "source": [
        "Statistics Part 2\n",
        "\n",
        "Theory Questions:\n",
        "\n",
        "\n",
        "Que.1  What is hypothesis testing in statistics.\n",
        "\n",
        "\n",
        "Ans.  Hypothesis testing is a statistical method that is used to make a statistical decision using experimental data. Hypothesis testing is basically an assumption that we make about a population parameter. It evaluates two mutually exclusive statements about a population to determine which statement is best supported by the sample data.\n",
        "To test the validity of the claim or assumption about the population parameter:\n",
        "\n",
        "* A sample is drawn from the population and analyzed.\n",
        "\n",
        "* The results of the analysis are used to decide whether the claim is true or not.\n",
        "\n",
        "Defining Hypotheses:\n",
        "\n",
        "* Null hypothesis (H0): In statistics, the null hypothesis is a general statement or default position that there is no relationship between two measured cases or no relationship among groups. In other words, it is a basic assumption or made based on the problem knowledge.\n",
        "\n",
        "* Alternative hypothesis (H1): The alternative hypothesis is the hypothesis used in hypothesis testing that is contrary to the null hypothesis.\n",
        "\n",
        "\n",
        "Que.2 What is the null hypothesis, and how does it differ from the alternative hypothesis.\n",
        "\n",
        "\n",
        "Ans. Null hypothesis implies a statement that expects no difference or effect. On the contrary, an alternative hypothesis is one that expects some difference or effect. Null hypothesis This article excerpt shed light on the fundamental differences between null and alternative hypothesis.\n",
        "\n",
        "\n",
        "Key Differences Between Null and Alternative Hypothesis:\n",
        "\n",
        "The important points of differences between null and alternative hypothesis are:\n",
        "\n",
        "* A null hypothesis is a statement, in which there is no relationship between two variables. An alternative hypothesis is a statement; that is simply the inverse of the null hypothesis, i.e. there is some statistical significance between two measured phenomenon.\n",
        "\n",
        "* A null hypothesis is what, the researcher tries to disprove whereas an alternative hypothesis is what the researcher wants to prove.\n",
        "\n",
        "* A null hypothesis represents, no observed effect whereas an alternative hypothesis reflects, some observed effect.\n",
        "\n",
        "* If the null hypothesis is accepted, no changes will be made in the opinions or actions. Conversely, if the alternative hypothesis is accepted, it will result in the changes in the opinions or actions.\n",
        "\n",
        "* As null hypothesis refers to population parameter, the testing is indirect and implicit. On the other hand, the alternative hypothesis indicates sample statistic, wherein, the testing is direct and explicit.\n",
        "\n",
        "* A null hypothesis is labelled as H0 (H-zero) while an alternative hypothesis is represented by H1 (H-one).\n",
        "The mathematical formulation of a null hypothesis is an equal sign but for an alternative hypothesis is not equal to sign.\n",
        "\n",
        "* In null hypothesis, the observations are the outcome of chance whereas, in the case of the alternative hypothesis, the observations are an outcome of real effect.\n",
        "\n",
        "\n",
        "Que.3  What is the significance level in hypothesis testing, and why is it important.\n",
        "\n",
        "Ans.Hypothesis testing is a fundamental concept in statistics used to make decisions about a population based on sample data. One of the key components of hypothesis testing is the significance level, often denoted by the Greek letter alpha ($$\\alpha$$\n",
        "). Let's delve into what significance level means and its importance in hypothesis testing.\n",
        "\n",
        "What is Significance Level:\n",
        "\n",
        "The significance level is a threshold set by the researcher before conducting the test. It represents the probability of rejecting the null hypothesis when it is actually true. In other words, it is the probability of making a Type I error, which is a false positive.\n",
        "\n",
        "Common significance levels are 0.05 (5%), 0.01 (1%), and 0.10 (10%). For instance, if $$\\alpha = 0.05$$\n",
        ", there is a 5% risk of concluding that there is an effect when there is none.\n",
        "\n",
        "Why is Significance Level Important:\n",
        "\n",
        "The significance level is crucial because it helps control the likelihood of making incorrect conclusions. By setting a significance level, researchers can manage the risk of Type I errors. A lower significance level means stricter criteria for rejecting the null hypothesis, reducing the chance of a false positive but increasing the chance of a Type II error (failing to reject a false null hypothesis)\n",
        "\n",
        "\n",
        "Que.4  What does a P-value represent in hypothesis testing.\n",
        "\n",
        "\n",
        "Ans. The p-value, or probability value, is a statistical measure used in hypothesis testing to assess the strength of evidence against a null hypothesis. It represents the probability of obtaining results as extreme as, or more extreme than, the observed results under the assumption that the null hypothesis is true.\n",
        "\n",
        "In simpler words, it is used to reject or support the null hypothesis during hypothesis testing. In data science, it gives valuable insights on the statistical significance of an independent variable in predicting the dependent variable.\n",
        "\n",
        "When you perform a statistical test, a p-value helps you determine the significance of your results in relation to the null hypothesis.\n",
        "\n",
        "The null hypothesis (H0) states no relationship exists between the two variables being studied (one variable does not affect the other). It states the results are due to chance and are not significant in supporting the idea being investigated. Thus, the null hypothesis assumes that whatever you try to prove did not happen.\n",
        "\n",
        "\n",
        "\n",
        "Que.5 How do you interpret the P-value in hypothesis testing.\n",
        "\n",
        "\n",
        "Ans. Here are five essential tips for ensuring the p-value from a hypothesis test is understood correctly.\n",
        "\n",
        "1. Know What the P-value Represents:\n",
        "\n",
        "First, it is essential to understand what a p-value is. In hypothesis testing, the p-value is defined as the probability of observing your data, or data more extreme, if the null hypothesis is true. As a reminder, the null hypothesis states no difference between your data and the expected population.\n",
        "\n",
        "Therefore, a smaller p-value indicates that what you observed is unlikely to have occurred if the null were true, offering evidence to reject the null hypothesis. Typically, a cut-off value of 0.05 is used where any p-value below this is considered significant evidence against the null.\n",
        "\n",
        "2. Understand the Directionality of Your Hypothesis:\n",
        "\n",
        "Based on the research question under exploration, there are two types of hypotheses: one-sided and two-sided. A one-sided test specifies a particular direction of effect, such as traffic to a website increasing after a design change. On the other hand, a two-sided test allows the change to be in either direction and is effective when the researcher wants to see any effect of the change.\n",
        "\n",
        "\n",
        "3. Avoid Threshold Thinking:\n",
        "\n",
        "A common pitfall in interpreting p-values is falling into the threshold thinking trap. The most commonly used cut-off value for whether a calculated p-value is statistically significant is 0.05. Typically, a p-value of less than 0.05 is considered statistically significant evidence against the null hypothesis.\n",
        "\n",
        "\n",
        "4. Consider the Power of Your Study:\n",
        "\n",
        "Similarly, some study conditions can result in a non-significant p-value even if practical significance exists. Statistical power is the ability of a study to detect an effect when it truly exists. In other words, it is the probability that the null hypothesis will be rejected when it is false.\n",
        "\n",
        "Power is impacted by a lot of factors. These include sample size, the effect size you are looking for, and variability within the data. In the example of website traffic after a design change, if the number of visits overall is too small, there may not be enough views to have enough power to detect a difference.\n",
        "\n",
        "5. Be Aware of Multiple Comparisons:\n",
        "\n",
        "Whenever multiple p-values are calculated in a single study due to multiple comparisons, there is an increased risk of false positives. This is because each individual comparison introduces random fluctuations, and each additional comparison compounds these fluctuations.\n",
        "\n",
        "\n",
        "\n",
        "Que.6 What are Type 1 and Type 2 errors in hypothesis testing.\n",
        "\n",
        "Ans. In statistics, Type I and Type II errors represent two kinds of errors that can occur when making a decision about a hypothesis based on sample data. Understanding these errors is crucial for interpreting the results of hypothesis tests.\n",
        "\n",
        "What is Type I Error (False Positive):\n",
        "\n",
        "Type I error, also known as a false positive, occurs in statistical hypothesis testing when a null hypothesis that is actually true is rejected. In other words, it's the error of incorrectly concluding that there is a significant effect or difference when there isn't one in reality.\n",
        "\n",
        "In hypothesis testing, there are two competing hypotheses:\n",
        "\n",
        "* Null Hypothesis (H0): This hypothesis represents a default assumption that there is no effect, no difference, or no relationship in the population being studied.\n",
        "\n",
        "* Alternative Hypothesis (H1): This hypothesis represents the opposite of the null hypothesis. It suggests that there is a significant effect, difference, or relationship in the population.\n",
        "\n",
        "A Type I error occurs when the null hypothesis is rejected based on the sample data, even though it is actually true in the population.\n",
        "\n",
        "What is Type II Error (False Negative):\n",
        "\n",
        "Type II error, also known as a false negative, occurs in statistical hypothesis testing when a null hypothesis that is actually false is not rejected. In other words, it's the error of failing to detect a significant effect or difference when one exists in reality.\n",
        "\n",
        "A Type II error occurs when the null hypothesis is not rejected based on the sample data, even though it is actually false in the population. In other words, it's a failure to recognize a real effect or difference.\n",
        "\n",
        "Suppose a medical researcher is testing a new drug to see if it's effective in treating a certain condition. The null hypothesis (H0) states that the drug has no effect, while the alternative hypothesis (H1) suggests that the drug is effective.\n",
        "\n",
        "Que.7  What is the difference between a one-tailed and a two-tailed test in hypothesis testing.\n",
        "\n",
        "\n",
        "Ans.Difference Between One-Tailed and Two-Tailed Tests:\n",
        "\n",
        "One-tailed and two-tailed tests are statistical methods used to determine the relationship between variables. They help in hypothesis testing by identifying whether the relationship is in a specific direction or not.\n",
        "\n",
        "One-Tailed Test:\n",
        "\n",
        "A one-tailed test is used when the hypothesis is directional, meaning it specifies that a parameter is either greater than or less than a certain value. The area of rejection is on only one side of the sampling distribution. This test uses a single critical value to determine whether to reject the null hypothesis.\n",
        "\n",
        "Example\n",
        "\n",
        "Consider a study to check if participating in a coding competition decreases students' fear levels:\n",
        "\n",
        "Null Hypothesis (H0): There is no significant effect of participating in a coding competition on students' fear levels.\n",
        "\n",
        "Alternative Hypothesis (H1): Participating in a coding competition decreases students' fear levels.\n",
        "\n",
        "If the test statistic falls in the critical region on the left side, the null hypothesis is rejected in favor of the alternative hypothesis\n",
        "\n",
        "Two-Tailed Test:\n",
        "\n",
        "A two-tailed test is used when the hypothesis is non-directional, meaning it does not specify a direction. It checks whether the sample is either greater than or less than a range of values. The area of rejection is on both sides of the sampling distribution.\n",
        "\n",
        "Example\n",
        "\n",
        "Consider a study to check the effect of a new bill on farmers' loans:\n",
        "\n",
        "Null Hypothesis (H0): There is no significant effect of the new bill on farmers' loans.\n",
        "\n",
        "Alternative Hypothesis (H1): The new bill affects farmers' loans (either increases or decreases).\n",
        "\n",
        "If the test statistic falls in either tail of the distribution's critical region, the null hypothesis is rejected in favor of the alternative hypothesis\n",
        "\n",
        "Key Differences\n",
        "\n",
        "* Directionality: One-tailed tests specify a direction (greater or less), while two-tailed tests do not.\n",
        "\n",
        "* Critical Region: One-tailed tests have the critical region on one side, while two-tailed tests have it on both sides.\n",
        "\n",
        "* Significance Level: In one-tailed tests, the entire significance level (α) is on one side, whereas in two-tailed tests, it is split between both sides.\n",
        "\n",
        "* Hypothesis Symbols: One-tailed tests use > or < for the alternative hypothesis, while two-tailed tests use ≠\n",
        "\n",
        "\n",
        "\n",
        "Que.8  What is the Z-test, and when is it used in hypothesis testing.\n",
        "\n",
        "\n",
        "Ans.A Z-test determines whether there are any statistically significant differences between the means of two populations. A Z-test can only be applied if the standard deviation of each population is known and a sample size of at least 30 data points is available.\n",
        "\n",
        "The name Z-test comes from the Z-score of the normal distribution. This is a measure of how many standard deviations away a raw score or sample statistics is from the population’s mean. Z-tests are the most common statistical tests conducted in fields such as healthcare and data science, making them essential to understand.\n",
        "\n",
        "\n",
        "In order to conduct a Z-test, your statistics need to meet a few requirements:\n",
        "\n",
        "* A sample size that’s greater than 30. This is because we want to ensure our sample mean comes from a distribution that is normal. As stated by the central limit theorem, any distribution can be approximated as normally distributed if it contains more than 30 data points.\n",
        "\n",
        "* The standard deviation and mean of the population is known.\n",
        "\n",
        "* The sample data is collected/acquired randomly.\n",
        "\n",
        "\n",
        "\n",
        "Que.9 How do you calculate the Z-score, and what does it represent in hypothesis testing.\n",
        "\n",
        "\n",
        "Ans. In statistics, a z-score tells us how many standard deviations away a given value lies from the mean. We use the following formula to calculate a z-score:\n",
        "\n",
        "z = (X – μ) / σ\n",
        "\n",
        "where:\n",
        "\n",
        "X is a single raw data value\n",
        "μ is the mean\n",
        "σ is the standard deviation\n",
        "\n",
        "A z-score for an individual value can be interpreted as follows:\n",
        "\n",
        "* Positive z-score: The individual value is greater than the mean.\n",
        "\n",
        "* Negative z-score: The individual value is less than the mean.\n",
        "\n",
        "* A z-score of 0: The individual value is equal to the mean.\n",
        "The larger the absolute value of the z-score, the further away an individual value lies from the mean.\n",
        "\n",
        "Why Are Z-Scores Useful:\n",
        "\n",
        "Z-scores are useful because they give us an idea of how an individual value compares to the rest of a distribution.\n",
        "\n",
        "For example, is an exam score of 87 good? Well, that depends on the mean and standard deviation of all exam scores.\n",
        "\n",
        "If the exam scores for the whole population are normally distributed with a mean of 90 and a standard deviation of 4, we would calculate the z-score for 87 to be:\n",
        "\n",
        "z = (X – μ) / σ  =  (87 – 90) /4 = -0.75.\n",
        "\n",
        "Since this value is negative, it tells us that an exam score of 87 is actually below the average exam score for the population. Specifically, an exam score of 87 is 0.75 standard deviations below the mean.\n",
        "\n",
        "\n",
        "Que.10  What is the T-distribution, and when should it be used instead of the normal distribution.\n",
        "\n",
        "\n",
        "Ans.  Student’s t-distribution, also known as the t-distribution, is a probability distribution that is used in statistics for making inferences about the population mean when the sample size is small or when the population standard deviation is unknown.\n",
        "A closely related distribution is the t-distribution, which is also symmetrical and bell-shaped but it has heavier “tails” than the normal distribution.\n",
        "\n",
        "In practice, we use the t-distribution most often when performing hypothesis tests or constructing confidence intervals.\n",
        "\n",
        "\n",
        "According to the Student's t-distribution, t-distribution is used instead of the Normal distribution \"when estimating the mean of a normally distributed population in situations where the sample size is small and the population standard deviation is unknown\".\n",
        "\n",
        "\n",
        "\n",
        "Que.11  What is the difference between a Z-test and a T-test.\n",
        "\n",
        "Ans. Z-test is a statistical test used to determine whether there is a significant difference between sample and population means or between the means of two samples.\n",
        "\n",
        "T-test is a statistical test used to determine whether there is a significant difference between the means of two groups.\n",
        "\n",
        "The main differences between a z-test and a t-test:\n",
        "\n",
        "\n",
        "* Z-test is used when the standard deviation is available and the sample is large, while the T-test is used when the standard deviation or the variance is unknown.\n",
        "\n",
        "* Z-tests require you to know the population standard deviation, while t-tests use a sample estimate of the standard deviation.\n",
        "\n",
        "* Z-tests use a normal distribution, while t-tests use the Student's t distribution.\n",
        "\n",
        "* Degrees of freedom are needed in t testing, not in z testing.\n",
        "\n",
        "* The z statistic is calculated with the standard error, while the t statistic uses the estimated standard error.\n",
        "\n",
        "\n",
        "\n",
        "Que.12 What is the T-test, and how is it used in hypothesis testing.\n",
        "\n",
        "Ans.T-Test is a method used in statistics to determine if there is a significant difference between the means of two groups and how they are related. In T-Test statistics, the sample data is a subset of the two groups that we use to draw conclusions about the groups as a whole.\n",
        "\n",
        "A t test can only be used when comparing the means of two groups (a.k.a. pairwise comparison). If you want to compare more than two groups, or if you want to do multiple pairwise comparisons, use an ANOVA test or a post-hoc test.\n",
        "\n",
        "The t test is a parametric test of difference, meaning that it makes the same assumptions about your data as other parametric tests. The t test assumes your data\n",
        "\n",
        "\n",
        "\n",
        "Que.13  What is the relationship between Z-test and T-test in hypothesis testing\n",
        "\n",
        "\n",
        "Ans.Choosing between a t-test and a Z-test can be summarized with these guidelines:\n",
        "\n",
        "* Use a t-test: When the sample size is small (n < 30) and/or the population variance is unknown.\n",
        "\n",
        "* Use a Z-test: When the sample size is large (n ≥ 30) and the population variance is known.\n",
        "\n",
        "Choosing between a t-test and a Z-test can be summarized with these guidelines: Use a t-test: When the sample size is small (n < 30) and/or the population variance is unknown. Use a Z-test: When the sample size is large (n ≥ 30) and the population variance is known.\n",
        "\n",
        "\n",
        "\n",
        "Que.14 What is a confidence interval, and how is it used to interpret statistical results\n",
        "\n",
        "\n",
        "Ans.Confidence Interval is a range where we are certain that true value exists. The selection of a confidence level for an interval determines the probability that the confidence interval will contain the true parameter value. This range of values is generally used to deal with population-based data, extracting specific, valuable information with a certain amount of confidence, hence the term ‘Confidence Interval’.\n",
        "\n",
        "interpreting confidence intervals is the concept of statistical certainty but not absolute certainty. For instance, stating that we are “95% confident” does not imply a 95% chance of the parameter falling within the specified interval in repeated samples; instead, it means that 95% of such constructed intervals from repeated sampling will encompass the true population parameter.\n",
        "\n",
        "\n",
        "Que.14 What is a confidence interval, and how is it used to interpret statistical results.\n",
        "\n",
        "\n",
        "\n",
        "Que.15  What is the margin of error, and how does it affect the confidence interval.\n",
        "\n",
        "\n",
        "Ans.margin of error is a statistic that expresses the amount of random sampling error in a survey’s results. It provides a range around a survey estimate to indicate where the true value is likely to lie. For example, if a poll indicates that 60% of respondents favor a particular policy with a margin of error of ±3%, it means that the true support is expected to be between 57% and 63%.\n",
        "\n",
        "The confidence interval and the margin of error are related as follows:\n",
        "\n",
        "* The confidence interval reflects the range within which one may have 95% confidence that the true percentage may be found.\n",
        "\n",
        "* The margin of error is half the confidence interval (also, the radius of the interval).\n",
        "\n",
        "* The larger the sample, the smaller the margin of error.\n",
        "A higher confidence level results in a larger margin of error.\n",
        "\n",
        "\n",
        "Que.16.How is Bayes' Theorem used in statistics, and what is its significance\n",
        "\n",
        "\n",
        "Ans.Bayes theorem (also known as the Bayes Rule or Bayes Law) is used to determine the conditional probability of event A when event B has already occurred.\n",
        "\n",
        "The general statement of Bayes’ theorem is “The conditional probability of an event A, given the occurrence of another event B, is equal to the product of the event of B, given A and the probability of A divided by the probability of event B.” i.e.\n",
        "\n",
        "P(A|B) = P(B|A)P(A) / P(B)\n",
        "\n",
        "* Applications of Bayes’ Theorem in Spam Filtering:\n",
        "\n",
        "Spam filters in email systems use Bayes' Theorem to distinguish between legitimate emails and spam. By analyzing the frequency of certain words or phrases in both spam and non-spam emails, the filter can assign probabilities to incoming messages being spam.\n",
        "\n",
        "For example, if an email contains words commonly found in spam messages, such as \"free\" or \"discount,\" the filter will calculate the likelihood that it is spam and then route it accordingly.\n",
        "Applications of Bayes’ Theorem in Weather Forecasting\n",
        "Meteorologists apply Bayes' Theorem to improve the accuracy of weather forecasts. By incorporating data from various sources such as satellite imagery, weather stations, and historical patterns, forecast models can calculate the probability of different weather outcomes.\n",
        "\n",
        "For instance, if there is a high pressure system moving in from the west, Bayes' Theorem helps meteorologists assess the likelihood of clear skies versus rain in a particular region.\n",
        "\n",
        "* Applications of Bayes’ Theorem in DNA Testing:\n",
        "\n",
        "In forensic science, Bayes' Theorem is used to interpret DNA evidence in criminal investigations. By comparing DNA samples collected from crime scenes to databases of known DNA profiles, analysts can calculate the probability that a suspect's DNA matches the evidence.\n",
        "\n",
        "For example, if the DNA found at the crime scene matches that of the suspect, Bayes' Theorem helps quantify the strength of that evidence in court.\n",
        "Applications of Bayes’ Theorem in Financial Forecasting\n",
        "Bayes' Theorem is applied in finance to assess the risk and return of investment portfolios. By analyzing historical market data and economic indicators, financial analysts can calculate the probability of different investment outcomes.\n",
        "\n",
        "\n",
        "\n",
        "* Applications of Bayes’ Theorem in Drug Testing:\n",
        "\n",
        "In pharmacology, Bayes' Theorem is used to evaluate the effectiveness of new drugs in clinical trials. By comparing patient outcomes between treatment and control groups, researchers can calculate the probability that a drug is effective in treating a particular condition.\n",
        "\n",
        "For example, if patients receiving the drug show a significant improvement in symptoms compared to those receiving a placebo, Bayes' Theorem helps quantify the likelihood that the drug is beneficial.\n",
        "\n",
        "\n",
        "\n",
        "Que.17 What is the Chi-square distribution, and when is it used\n",
        "\n",
        "Ans.A chi-square (Χ2) distribution is a continuous probability distribution that is used in many hypothesis tests.\n",
        "\n",
        "The shape of a chi-square distribution is determined by the parameter k. The graph below shows examples of chi-square distributions with different values of k.\n",
        "\n",
        "Chi-square (Χ2) distributions are a family of continuous probability distributions. They’re widely used in hypothesis tests, including the chi-square goodness of fit test and the chi-square test of independence.\n",
        "\n",
        "\n",
        "Que.18 What is the Chi-square goodness of fit test, and how is it applied.\n",
        "\n",
        "Ans.A chi-square (Χ2) goodness of fit test is a type of Pearson’s chi-square test. You can use it to test whether the observed distribution of a categorical variable differs from your expectations.\n",
        "\n",
        "The chi-square goodness of fit test tells you how well a statistical model fits a set of observations. It’s often used to analyze genetic crosses.\n",
        "\n",
        "A chi-square (Χ2) goodness of fit test is a goodness of fit test for a categorical variable. Goodness of fit is a measure of how well a statistical model fits a set of observations.\n",
        "\n",
        "* When goodness of fit is high, the values expected based on the model are close to the observed values.\n",
        "\n",
        "* When goodness of fit is low, the values expected based on the model are far from the observed values.\n",
        "\n",
        "The statistical models that are analyzed by chi-square goodness of fit tests are distributions. They can be any distribution, from as simple as equal probability for all groups, to as complex as a probability distribution with many parameters.\n",
        "\n",
        "\n",
        "Que.19  What is the F-distribution, and when is it used in hypothesis testing.\n",
        "\n",
        "Ans.\n",
        "The F-distribution is a continuous statistical distribution used to test whether two samples have the same variance. The F-Distribution has two parameters the numerator degrees of freedom (df1) and the denominator degrees of freedom (df2). Formula for F-distribution.\n",
        "\n",
        "Applications of the F-Distribution in Statistics:\n",
        "\n",
        "* The F-Distribution is commonly used in statistical analysis to compare the variances of two populations.\n",
        "\n",
        "* For example, it can be used in analysis of variance (ANOVA) to test for differences in means of three or more groups.\n",
        "\n",
        "* It can also be used in regression analysis to test the overall significance of a regression model, or to compare the variances of the residuals for two or more models.\n",
        "\n",
        "\n",
        "Que.20 What is an ANOVA test, and what are its assumptions.\n",
        "\n",
        "Ans.ANOVA is a statistical test used to examine differences among the means of three or more groups. Unlike a t-test, which only compares two groups, ANOVA can handle multiple groups in a single analysis, making it an essential tool for experiments with more than two categories.\n",
        "\n",
        "For example, if a researcher wants to test the effects of three different study methods on student performance, ANOVA can help determine if there are significant performance differences among the groups.\n",
        "\n",
        "\n",
        "Assumptions of ANOVA:\n",
        "\n",
        "Before performing an ANOVA, you will need to check whether its underlying assumptions are met. The assumptions of ANOVA are as follows:\n",
        "\n",
        "* Normality: The data within each group should be normally distributed.\n",
        "\n",
        "* Homogeneity of variance: The variance of the data within each group should be equal.\n",
        "\n",
        "* Independence: The observations within each group should be independent.\n",
        "\n",
        "* Random sampling: Observations within each group have been sampled randomly and are independent of each other.\n",
        "\n",
        "\n",
        "Que.21 What are the different types of ANOVA tests.\n",
        "\n",
        "\n",
        "Ans.  Different types of ANOVA tests include:\n",
        "\n",
        "* One-way ANOVA: Compares levels of a single factor based on a single continuous response variable.\n",
        "\n",
        "* Two-way ANOVA: Involves two independent variables.\n",
        "Repeated Measures ANOVA: Used when measurements are taken on the same subjects at multiple time points.\n",
        "\n",
        "* Mixed Design ANOVA: Combines between-subjects and within-subjects factors.\n",
        "\n",
        "* Multivariate Analysis of Variance (MANOVA): Used when there are multiple dependent variables.\n",
        "\n",
        "\n",
        "\n",
        "Que 22 What is the F-test, and how does it relate to hypothesis testing\n",
        "\n",
        "\n",
        "Ans F test is a statistical test that is used in hypothesis testing to check whether the variances of two populations or two samples are equal or not. In an f test, the data follows an f distribution. This test uses the f statistic to compare two variances by dividing them. An f test can either be one-tailed or two-tailed depending upon the parameters of the problem.\n",
        "\n",
        "F test is a statistical test that is used in hypothesis testing that determines whether the variances of two samples are equal or not. The article will provide detailed information on f test, f statistic, its calculation, critical value and how to use it to test hypotheses. To understand F test firstly we need to have some basic understanding of F-distribution.\n",
        "\n",
        "\n",
        "Hypothesis Testing Framework for F-test\n",
        "For various hypothesis tests the F test formula is provided as follows:\n",
        "\n",
        "1. Left Tailed Test:\n",
        "\n",
        "Null Hypothesis: H0 :\n",
        "σ\n",
        "1\n",
        "2\n",
        "=\n",
        "σ\n",
        "2\n",
        "2\n",
        "σ\n",
        "1\n",
        "2\n",
        "​\n",
        " =σ\n",
        "2\n",
        "2\n",
        "​\n",
        "\n",
        "Alternate Hypothesis: H1 :\n",
        "σ\n",
        "1\n",
        "2\n",
        "<\n",
        "σ\n",
        "2\n",
        "2\n",
        "σ\n",
        "1\n",
        "2\n",
        "​\n",
        " <σ\n",
        "2\n",
        "2\n",
        "​\n",
        "\n",
        "Decision-Making Standard: The null hypothesis is to be rejected if the F statistic is less than the F critical value.\n",
        "\n",
        "2. Right Tailed Test:\n",
        "\n",
        "Null Hypothesis: H0 :\n",
        "σ\n",
        "1\n",
        "2\n",
        "=\n",
        "σ\n",
        "2\n",
        "2\n",
        "σ\n",
        "1\n",
        "2\n",
        "​\n",
        " =σ\n",
        "2\n",
        "2\n",
        "​\n",
        "\n",
        "Alternate Hypothesis: H1 :\n",
        "σ\n",
        "1\n",
        "2\n",
        ">\n",
        "σ\n",
        "2\n",
        "2\n",
        "σ\n",
        "1\n",
        "2\n",
        "​\n",
        " >σ\n",
        "2\n",
        "2\n",
        "​\n",
        "\n",
        "Decision-Making Standard: Dismiss the null hypothesis if the F test statistic is greater than the F test critical value.\n",
        "\n",
        "3. Two Tailed Test:\n",
        "\n",
        "Null Hypothesis: H0 : \\sigma_{1}^2 = \\sigma_{2}^2\n",
        "Alternate Hypothesis: H1 :\n",
        "σ\n",
        "1\n",
        "2\n",
        "≠\n",
        "σ\n",
        "2\n",
        "2\n",
        "σ\n",
        "1\n",
        "2\n",
        "​\n",
        "\n",
        "\n",
        "=σ\n",
        "2\n",
        "2\n",
        "​\n",
        "\n",
        "Decision-Making Standard: When the F test statistic surpasses the F test critical value the null hypothesis is declared invalid.\n",
        "\n",
        "\n",
        "\n",
        "\n",
        "Practical:\n",
        "\n",
        "\n",
        "Que.1 Write a Python program to perform a Z-test for comparing a sample mean to a known population mean and\n",
        "interpret the results\n",
        "\n"
      ],
      "metadata": {
        "id": "Hteuclhepx16"
      }
    },
    {
      "cell_type": "code",
      "source": [
        "import numpy as np\n",
        "import scipy.stats as stats\n",
        "\n",
        "def z_test(sample_data, population_mean, population_std, alpha=0.05):\n",
        "    # Calculate sample mean\n",
        "    sample_mean = np.mean(sample_data)\n",
        "    # Calculate sample size\n",
        "    n = len(sample_data)\n",
        "    # Calculate standard error\n",
        "    standard_error = population_std / np.sqrt(n)\n",
        "    # Calculate Z score\n",
        "    z_score = (sample_mean - population_mean) / standard_error\n",
        "    # Calculate p-value\n",
        "    p_value = 2 * (1 - stats.norm.cdf(abs(z_score)))\n",
        "\n",
        "    # Interpret the results\n",
        "    if p_value < alpha:\n",
        "        result = \"reject the null hypothesis\"\n",
        "    else:\n",
        "        result = \"fail to reject the null hypothesis\"\n",
        "\n",
        "    return z_score, p_value, result\n",
        "\n",
        "# Example usage\n",
        "sample_data = [5.1, 4.9, 5.0, 5.2, 5.3, 5.1, 5.0, 5.1, 5.2, 5.0]\n",
        "population_mean = 5.0\n",
        "population_std = 0.1\n",
        "\n",
        "z_score, p_value, result = z_test(sample_data, population_mean, population_std)\n",
        "\n",
        "print(\"Z-score: {z_score:.2f}\")\n",
        "print(\"P-value: {p_value:.4f}\")\n",
        "print(\"Result: We {result} at the {*100}% significance level.\")"
      ],
      "metadata": {
        "colab": {
          "base_uri": "https://localhost:8080/"
        },
        "id": "jdgIq652zAqe",
        "outputId": "793fa230-48f6-4e4a-8056-a017f1b2f7ef"
      },
      "execution_count": null,
      "outputs": [
        {
          "output_type": "stream",
          "name": "stdout",
          "text": [
            "Z-score: {z_score:.2f}\n",
            "P-value: {p_value:.4f}\n",
            "Result: We {result} at the {*100}% significance level.\n"
          ]
        }
      ]
    },
    {
      "cell_type": "markdown",
      "source": [
        "Que.2 Simulate random data to perform hypothesis testing and calculate the corresponding P-value using Python."
      ],
      "metadata": {
        "id": "WloTmgj92bgn"
      }
    },
    {
      "cell_type": "code",
      "source": [
        "import numpy as np\n",
        "from scipy import stats\n",
        "\n",
        "# Simulate random data\n",
        "np.random.seed(42)  # For reproducibility\n",
        "data1 = np.random.normal(loc=50, scale=10, size=100)  # Sample 1: mean=50, std=10, n=100\n",
        "data2 = np.random.normal(loc=55, scale=10, size=100)  # Sample 2: mean=55, std=10, n=100\n",
        "\n",
        "# Perform two-sample t-test\n",
        "t_stat, p_value = stats.ttest_ind(data1, data2)\n",
        "\n",
        "# Output the results\n",
        "print(f\"T-statistic: {t_stat:.4f}\")\n",
        "print(f\"P-value: {p_value:.4f}\")"
      ],
      "metadata": {
        "colab": {
          "base_uri": "https://localhost:8080/"
        },
        "id": "wWnqJzLw2hXv",
        "outputId": "d0c1d4d5-e002-4490-bb5a-7148c5bee616"
      },
      "execution_count": null,
      "outputs": [
        {
          "output_type": "stream",
          "name": "stdout",
          "text": [
            "T-statistic: -4.7547\n",
            "P-value: 0.0000\n"
          ]
        }
      ]
    },
    {
      "cell_type": "markdown",
      "source": [
        "Que.3 Implement a one-sample Z-test using Python to compare the sample mean with the population mean."
      ],
      "metadata": {
        "id": "L6xQST8k2sas"
      }
    },
    {
      "cell_type": "code",
      "source": [
        "import numpy as np\n",
        "from scipy import stats\n",
        "\n",
        "def one_sample_z_test(sample_data, population_mean, population_std):\n",
        "    # Calculate the sample mean\n",
        "    sample_mean = np.mean(sample_data)\n",
        "\n",
        "    # Calculate the sample size\n",
        "    sample_size = len(sample_data)\n",
        "\n",
        "    # Calculate the standard error of the mean\n",
        "    standard_error = population_std / np.sqrt(sample_size)\n",
        "\n",
        "    # Calculate the z-score\n",
        "    z_score = (sample_mean - population_mean) / standard_error\n",
        "\n",
        "    # Calculate the p-value\n",
        "    p_value = 2 * (1 - stats.norm.cdf(abs(z_score)))\n",
        "\n",
        "    return z_score, p_value\n",
        "\n",
        "# Example usage\n",
        "sample_data = [10, 12, 9, 11, 13, 12, 10, 14, 13, 11]\n",
        "population_mean = 10\n",
        "population_std = 2\n",
        "\n",
        "z_score, p_value = one_sample_z_test(sample_data, population_mean, population_std)\n",
        "print(f\"Z-Score: {z_score}\")\n",
        "print(f\"P-Value: {p_value}\")"
      ],
      "metadata": {
        "colab": {
          "base_uri": "https://localhost:8080/"
        },
        "id": "G_8hHX482xN7",
        "outputId": "dbb52369-3935-4eca-aacc-58573f50a674"
      },
      "execution_count": null,
      "outputs": [
        {
          "output_type": "stream",
          "name": "stdout",
          "text": [
            "Z-Score: 2.3717082451262845\n",
            "P-Value: 0.017706065807366667\n"
          ]
        }
      ]
    },
    {
      "cell_type": "markdown",
      "source": [
        "Que.4 Perform a two-tailed Z-test using Python and visualize the decision region on a plot."
      ],
      "metadata": {
        "id": "NQg7K5q-29Jg"
      }
    },
    {
      "cell_type": "code",
      "source": [
        "import matplotlib.pyplot as plt\n",
        "import numpy as np\n",
        "import scipy.stats as stats\n",
        "\n",
        "\n",
        "# Define the significance level (alpha)\n",
        "alpha = 0.05\n",
        "\n",
        "# Calculate the critical z-values for a two-tailed test\n",
        "z_critical = (1 - alpha / 2)\n",
        "\n",
        "# Plot the standard normal distribution\n",
        "x = np.linspace(-4, 4, 1000)\n",
        "y = (x)\n",
        "\n",
        "plt.plot(x, y, label='Standard Normal Distribution')\n",
        "\n",
        "# Shade the critical regions\n",
        "plt.fill_between(x, y, where=(x <= -z_critical) | (x >= z_critical), color='red', alpha=0.5, label='Critical Region')\n",
        "\n",
        "# Plot the z-score\n",
        "plt.axvline(z_score, color='blue', linestyle='--', label=f'Z-Score: {z_score:.2f}')\n",
        "\n",
        "# Add labels and legend\n",
        "plt.title('Two-Tailed Z-Test Decision Region')\n",
        "plt.xlabel('Z-Score')\n",
        "plt.ylabel('Probability Density')\n",
        "plt.legend()\n",
        "\n",
        "# Show the plot\n",
        "plt.show()"
      ],
      "metadata": {
        "colab": {
          "base_uri": "https://localhost:8080/",
          "height": 624
        },
        "id": "Bobj6zQVcWrk",
        "outputId": "ae383216-5556-4b79-b25e-9d8866b400c8"
      },
      "execution_count": null,
      "outputs": [
        {
          "output_type": "error",
          "ename": "NameError",
          "evalue": "name 'z_score' is not defined",
          "traceback": [
            "\u001b[0;31m---------------------------------------------------------------------------\u001b[0m",
            "\u001b[0;31mNameError\u001b[0m                                 Traceback (most recent call last)",
            "\u001b[0;32m<ipython-input-6-b16b4a4ce6ef>\u001b[0m in \u001b[0;36m<cell line: 0>\u001b[0;34m()\u001b[0m\n\u001b[1;32m     20\u001b[0m \u001b[0;34m\u001b[0m\u001b[0m\n\u001b[1;32m     21\u001b[0m \u001b[0;31m# Plot the z-score\u001b[0m\u001b[0;34m\u001b[0m\u001b[0;34m\u001b[0m\u001b[0m\n\u001b[0;32m---> 22\u001b[0;31m \u001b[0mplt\u001b[0m\u001b[0;34m.\u001b[0m\u001b[0maxvline\u001b[0m\u001b[0;34m(\u001b[0m\u001b[0mz_score\u001b[0m\u001b[0;34m,\u001b[0m \u001b[0mcolor\u001b[0m\u001b[0;34m=\u001b[0m\u001b[0;34m'blue'\u001b[0m\u001b[0;34m,\u001b[0m \u001b[0mlinestyle\u001b[0m\u001b[0;34m=\u001b[0m\u001b[0;34m'--'\u001b[0m\u001b[0;34m,\u001b[0m \u001b[0mlabel\u001b[0m\u001b[0;34m=\u001b[0m\u001b[0;34mf'Z-Score: {z_score:.2f}'\u001b[0m\u001b[0;34m)\u001b[0m\u001b[0;34m\u001b[0m\u001b[0;34m\u001b[0m\u001b[0m\n\u001b[0m\u001b[1;32m     23\u001b[0m \u001b[0;34m\u001b[0m\u001b[0m\n\u001b[1;32m     24\u001b[0m \u001b[0;31m# Add labels and legend\u001b[0m\u001b[0;34m\u001b[0m\u001b[0;34m\u001b[0m\u001b[0m\n",
            "\u001b[0;31mNameError\u001b[0m: name 'z_score' is not defined"
          ]
        },
        {
          "output_type": "display_data",
          "data": {
            "text/plain": [
              "<Figure size 640x480 with 1 Axes>"
            ],
            "image/png": "[encoded data removed]"
          },
          "metadata": {}
        }
      ]
    },
    {
      "cell_type": "markdown",
      "source": [
        "Que 5 Create a Python function that calculates and visualizes Type 1 and Type 2 errors during hypothesis testin"
      ],
      "metadata": {
        "id": "EjH9CfIv31lf"
      }
    },
    {
      "cell_type": "code",
      "source": [
        "import numpy as np\n",
        "import matplotlib.pyplot as plt\n",
        "from scipy.stats import norm\n",
        "\n",
        "def visualize_errors(mu0, mu1, sigma, alpha, sample_size):\n",
        "    \"\"\"\n",
        "    Visualizes Type I and Type II errors for hypothesis testing.\n",
        "\n",
        "    Parameters:\n",
        "    mu0 (float): Mean under the null hypothesis (H0).\n",
        "    mu1 (float): Mean under the alternative hypothesis (H1).\n",
        "    sigma (float): Standard deviation of the population.\n",
        "    alpha (float): Significance level.\n",
        "    sample_size (int): Size of the sample.\n",
        "    \"\"\"\n",
        "    # Calculate the critical value for the given alpha\n",
        "    z_alpha = norm.ppf(1 - alpha)\n",
        "    critical_value = mu0 + z_alpha * (sigma / np.sqrt(sample_size))\n",
        "\n",
        "    # Calculate the beta (Type II error rate)\n",
        "    z_beta = (critical_value - mu1) / (sigma / np.sqrt(sample_size))\n",
        "    beta = norm.cdf(z_beta)\n",
        "\n",
        "    # Define the range for the x-axis\n",
        "    x = np.linspace(mu0 - 4*sigma, mu1 + 4*sigma, 1000)\n",
        "\n",
        "    # Calculate the normal distributions\n",
        "    y0 = norm.pdf(x, mu0, sigma / np.sqrt(sample_size))\n",
        "    y1 = norm.pdf(x, mu1, sigma / np.sqrt(sample_size))\n",
        "\n",
        "    # Plot the distributions\n",
        "    plt.figure(figsize=(10, 6))\n",
        "    plt.plot(x, y0, label='H0: $\\mu = {}$'.format(mu0))\n",
        "    plt.plot(x, y1, label='H1: $\\mu = {}$'.format(mu1))\n",
        "\n",
        "    # Fill the Type I error area\n",
        "    plt.fill_between(x, 0, y0, where=(x > critical_value), color='red', alpha=0.5, label='Type I Error (α)')\n",
        "\n",
        "    # Fill the Type II error area\n",
        "    plt.fill_between(x, 0, y1, where=(x < critical_value), color='blue', alpha=0.5, label='Type II Error (β)')\n",
        "\n",
        "    # Plot the critical value line\n",
        "    plt.axvline(x=critical_value, color='black', linestyle='--', label='Critical Value')\n",
        "\n",
        "    # Add labels and legend\n",
        "    plt.xlabel('Sample Mean')\n",
        "    plt.ylabel('Probability Density')\n",
        "    plt.title('Type I and Type II Errors')\n",
        "    plt.legend()\n",
        "\n",
        "    # Show the plot\n",
        "    plt.show()\n",
        "\n",
        "    # Print the calculated errors\n",
        "    print(f\"Type I Error (α): {alpha}\")\n",
        "    print(f\"Type II Error (β): {beta}\")\n",
        "\n",
        "# Example usage\n",
        "visualize_errors(mu0=100, mu1=105, sigma=15, alpha=0.05, sample_size=30)"
      ],
      "metadata": {
        "colab": {
          "base_uri": "https://localhost:8080/",
          "height": 599
        },
        "id": "fA9zQmZ5dI-3",
        "outputId": "9d044b7a-d99d-4048-b218-5cc0a483aaa7"
      },
      "execution_count": null,
      "outputs": [
        {
          "output_type": "display_data",
          "data": {
            "text/plain": [
              "<Figure size 1000x600 with 1 Axes>"
            ],
            "image/png": "[encoded data removed]"
          },
          "metadata": {}
        },
        {
          "output_type": "stream",
          "name": "stdout",
          "text": [
            "Type I Error (α): 0.05\n",
            "Type II Error (β): 0.4282276532270913\n"
          ]
        }
      ]
    },
    {
      "cell_type": "markdown",
      "source": [
        "Que.6 Write a Python program to perform an independent T-test and interpret the result"
      ],
      "metadata": {
        "id": "trU3QkxCdah8"
      }
    },
    {
      "cell_type": "code",
      "source": [
        "import numpy as np\n",
        "from scipy import stats\n",
        "group1 = [23, 21, 18, 30, 25, 27, 22, 24, 19, 20]\n",
        "group2 = [31, 29, 35, 28, 32, 30, 33, 34, 36, 29]\n",
        "\n",
        "t_stat, p_value = stats.ttest_ind(group1, group2)\n",
        "print(f\"T-statistic: {t_stat:.2f}\")\n",
        "print(f\"P-value: {p_value:.4f}\")\n",
        "\n",
        "# Interpretation of the result\n",
        "alpha = 0.05\n",
        "if p_value < alpha:\n",
        "    print(\"The difference between the group means is statistically significant.\")\n",
        "else:\n",
        "    print(\"The difference between the group means is not statistically significant.\")"
      ],
      "metadata": {
        "colab": {
          "base_uri": "https://localhost:8080/"
        },
        "id": "DjvTtO_udx6M",
        "outputId": "9754bbd8-18f5-44ca-eebd-634f1d9a2e85"
      },
      "execution_count": null,
      "outputs": [
        {
          "output_type": "stream",
          "name": "stdout",
          "text": [
            "T-statistic: -6.01\n",
            "P-value: 0.0000\n",
            "The difference between the group means is statistically significant.\n"
          ]
        }
      ]
    },
    {
      "cell_type": "markdown",
      "source": [
        "Que.7  Perform a paired sample T-test using Python and visualize the comparison results"
      ],
      "metadata": {
        "id": "vv2suY-0eBje"
      }
    },
    {
      "cell_type": "code",
      "source": [
        "import numpy as np\n",
        "import pandas as pd\n",
        "from scipy import stats\n",
        "import matplotlib.pyplot as plt\n",
        "import seaborn as sns\n",
        "before = np.array([20, 21, 19, 18, 22, 20, 23, 21, 19, 20])\n",
        "after = np.array([22, 23, 21, 20, 24, 22, 25, 23, 21, 22])\n",
        "# Perform paired t-test\n",
        "t_stat, p_value = stats.ttest_rel(before, after)\n",
        "\n",
        "print(f\"t-statistic: {t_stat:.2f}\")\n",
        "print(f\"p-value: {p_value:.4f}\")\n",
        "# Create a DataFrame for visualization\n",
        "data = pd.DataFrame({'Before': before, 'After': after})\n",
        "\n",
        "# Melt the DataFrame for easier plotting\n",
        "data_melted = data.melt(var_name='Condition', value_name='Score')\n",
        "\n",
        "# Plot\n",
        "plt.figure(figsize=(10, 6))\n",
        "sns.boxplot(x='Condition', y='Score', data=data_melted, palette='Set2')\n",
        "sns.swarmplot(x='Condition', y='Score', data=data_melted, color='black', alpha=0.7)\n",
        "\n",
        "plt.title('Comparison of Scores Before and After')\n",
        "plt.xlabel('Condition')\n",
        "plt.ylabel('Score')\n",
        "plt.show()"
      ],
      "metadata": {
        "colab": {
          "base_uri": "https://localhost:8080/",
          "height": 740
        },
        "id": "e-lMQ5ZreGqN",
        "outputId": "fb2a9e58-473f-46f6-f03c-1d159256db70"
      },
      "execution_count": null,
      "outputs": [
        {
          "output_type": "stream",
          "name": "stderr",
          "text": [
            "/usr/local/lib/python3.11/dist-packages/scipy/stats/_axis_nan_policy.py:531: RuntimeWarning: Precision loss occurred in moment calculation due to catastrophic cancellation. This occurs when the data are nearly identical. Results may be unreliable.\n",
            "  res = hypotest_fun_out(*samples, **kwds)\n",
            "<ipython-input-9-506a4c1a3cde>:21: FutureWarning: \n",
            "\n",
            "Passing `palette` without assigning `hue` is deprecated and will be removed in v0.14.0. Assign the `x` variable to `hue` and set `legend=False` for the same effect.\n",
            "\n",
            "  sns.boxplot(x='Condition', y='Score', data=data_melted, palette='Set2')\n"
          ]
        },
        {
          "output_type": "stream",
          "name": "stdout",
          "text": [
            "t-statistic: -inf\n",
            "p-value: 0.0000\n"
          ]
        },
        {
          "output_type": "display_data",
          "data": {
            "text/plain": [
              "<Figure size 1000x600 with 1 Axes>"
            ],
            "image/png": "[encoded data removed]"
          },
          "metadata": {}
        }
      ]
    },
    {
      "cell_type": "markdown",
      "source": [
        "Que.8 Simulate data and perform both Z-test and T-test, then compare the results using Python"
      ],
      "metadata": {
        "id": "GCJY_aCjemMo"
      }
    },
    {
      "cell_type": "code",
      "source": [
        "import numpy as np\n",
        "from scipy import stats\n",
        "\n",
        "# Set random seed for reproducibility\n",
        "np.random.seed(42)\n",
        "\n",
        "# Simulate data\n",
        "sample_size = 30\n",
        "population_mean = 50\n",
        "population_std = 10\n",
        "\n",
        "# Generate two samples\n",
        "sample1 = np.random.normal(population_mean, population_std, sample_size)\n",
        "sample2 = np.random.normal(population_mean + 5, population_std, sample_size)  # mean shifted by 5\n",
        "\n",
        "# Known population standard deviation\n",
        "pop_std = population_std\n",
        "\n",
        "# Calculate the z-test\n",
        "z_stat, p_value_z = stats.ttest_ind_from_stats(\n",
        "    mean1=np.mean(sample1), std1=pop_std, nobs1=sample_size,\n",
        "    mean2=np.mean(sample2), std2=pop_std, nobs2=sample_size,\n",
        "    equal_var=False\n",
        ")\n",
        "\n",
        "# Calculate the t-test\n",
        "t_stat, p_value_t = stats.ttest_ind(sample1, sample2, equal_var=False)\n",
        "\n",
        "# Comparison\n",
        "print(\"\\nComparison of Z-Test and T-Test Results:\")\n",
        "print(f\"Z-Test: Z-Statistic = {z_stat:.4f}, P-Value = {p_value_z:.4f}\")\n",
        "print(f\"T-Test: T-Statistic = {t_stat:.4f}, P-Value = {p_value_t:.4f}\")"
      ],
      "metadata": {
        "colab": {
          "base_uri": "https://localhost:8080/"
        },
        "id": "rojg0CXTeqsR",
        "outputId": "959de8b3-8a6e-4b0f-e7b5-92b2242446ff"
      },
      "execution_count": null,
      "outputs": [
        {
          "output_type": "stream",
          "name": "stdout",
          "text": [
            "\n",
            "Comparison of Z-Test and T-Test Results:\n",
            "Z-Test: Z-Statistic = -2.1959, P-Value = 0.0321\n",
            "T-Test: T-Statistic = -2.3981, P-Value = 0.0197\n"
          ]
        }
      ]
    },
    {
      "cell_type": "markdown",
      "source": [
        "Que.9  Write a Python function to calculate the confidence interval for a sample mean and explain its significance"
      ],
      "metadata": {
        "id": "1ZaFj5mxe1Le"
      }
    },
    {
      "cell_type": "code",
      "source": [
        "import scipy.stats as stats\n",
        "import numpy as np\n",
        "\n",
        "def confidence_interval(data, confidence=0.95):\n",
        "    \"\"\"\n",
        "    Calculate the confidence interval for a sample mean.\n",
        "\n",
        "    Parameters:\n",
        "    data (list or numpy array): The sample data.\n",
        "    confidence (float): The confidence level for the interval (default is 0.95).\n",
        "\n",
        "    Returns:\n",
        "    tuple: Lower and upper bounds of the confidence interval.\n",
        "    \"\"\"\n",
        "    n = len(data)\n",
        "    mean = np.mean(data)\n",
        "    sem = stats.sem(data)  # Standard error of the mean\n",
        "    margin_of_error = sem * stats.t.ppf((1 + confidence) / 2., n-1)\n",
        "\n",
        "    return mean - margin_of_error, mean + margin_of_error\n",
        "\n",
        "# Example usage\n",
        "sample_data = [12, 15, 14, 10, 13, 14, 16, 12, 11, 15]\n",
        "ci = confidence_interval(sample_data)\n",
        "print(f\"95% Confidence Interval: {ci}\")"
      ],
      "metadata": {
        "colab": {
          "base_uri": "https://localhost:8080/"
        },
        "id": "VPlACQgAe6Ai",
        "outputId": "1527bd20-e41d-4481-cf0c-418299120740"
      },
      "execution_count": null,
      "outputs": [
        {
          "output_type": "stream",
          "name": "stdout",
          "text": [
            "95% Confidence Interval: (11.817799142311271, 14.582200857688727)\n"
          ]
        }
      ]
    },
    {
      "cell_type": "markdown",
      "source": [
        "Que.10  Write a Python program to calculate the margin of error for a given confidence level using sample dataD"
      ],
      "metadata": {
        "id": "AnlMfwhvfDDp"
      }
    },
    {
      "cell_type": "code",
      "source": [
        "import math\n",
        "import scipy.stats as stats\n",
        "\n",
        "def calculate_margin_of_error(sample_data, confidence_level):\n",
        "    # Calculate the sample mean\n",
        "    sample_mean = sum(sample_data) / len(sample_data)\n",
        "\n",
        "    # Calculate the sample standard deviation\n",
        "    sample_std_dev = math.sqrt(sum([(x - sample_mean) ** 2 for x in sample_data]) / (len(sample_data) - 1))\n",
        "\n",
        "    # Calculate the standard error\n",
        "    standard_error = sample_std_dev / math.sqrt(len(sample_data))\n",
        "\n",
        "    # Get the z-score for the given confidence level\n",
        "    z_score = stats.norm.ppf((1 + confidence_level) / 2)\n",
        "\n",
        "    # Calculate the margin of error\n",
        "    margin_of_error = z_score * standard_error\n",
        "\n",
        "    return margin_of_error\n",
        "\n",
        "# Example usage\n",
        "sample_data = [10, 12, 23, 23, 16, 23, 21, 16, 18, 19]\n",
        "confidence_level = 0.95  # 95% confidence level\n",
        "\n",
        "margin_of_error = calculate_margin_of_error(sample_data, confidence_level)\n",
        "print(f\"Margin of Error: {margin_of_error:.2f}\")"
      ],
      "metadata": {
        "colab": {
          "base_uri": "https://localhost:8080/"
        },
        "id": "O58aLYxyfKnj",
        "outputId": "72c0e54d-a18b-4094-c155-2e4f5df0b9d4"
      },
      "execution_count": null,
      "outputs": [
        {
          "output_type": "stream",
          "name": "stdout",
          "text": [
            "Margin of Error: 2.87\n"
          ]
        }
      ]
    },
    {
      "cell_type": "markdown",
      "source": [
        "Que.11 Implement a Bayesian inference method using Bayes' Theorem in Python and explain the process"
      ],
      "metadata": {
        "id": "0ZTpQQHZfVgo"
      }
    },
    {
      "cell_type": "code",
      "source": [
        "# Define the probabilities\n",
        "P_A = 0.01  # Prior probability of having the disease\n",
        "P_B_given_A = 0.99  # Probability of testing positive given having the disease\n",
        "P_B_given_not_A = 0.05  # Probability of testing positive given not having the disease\n",
        "P_not_A = 1 - P_A  # Probability of not having the disease\n",
        "\n",
        "# Calculate the marginal likelihood\n",
        "P_B = (P_B_given_A * P_A) + (P_B_given_not_A * P_not_A)\n",
        "\n",
        "# Calculate the posterior probability using Bayes' Theorem\n",
        "P_A_given_B = (P_B_given_A * P_A) / P_B\n",
        "\n",
        "# Print the result\n",
        "print(f\"The probability of having the disease given a positive test result is {P_A_given_B:.4f}\")"
      ],
      "metadata": {
        "colab": {
          "base_uri": "https://localhost:8080/"
        },
        "id": "rpudXtAqfbG6",
        "outputId": "913ec30a-c032-457a-b356-d5a3e5674a04"
      },
      "execution_count": null,
      "outputs": [
        {
          "output_type": "stream",
          "name": "stdout",
          "text": [
            "The probability of having the disease given a positive test result is 0.1667\n"
          ]
        }
      ]
    },
    {
      "cell_type": "markdown",
      "source": [
        "Que.12 Perform a Chi-square test for independence between two categorical variables in Python."
      ],
      "metadata": {
        "id": "9Z2GzWgifpbW"
      }
    },
    {
      "cell_type": "code",
      "source": [
        "from scipy.stats import chi2_contingency\n",
        "\n",
        "# defining the table\n",
        "data = [[207, 282, 241], [234, 242, 232]]\n",
        "stat, p, dof, expected = chi2_contingency(data)\n",
        "\n",
        "# interpret p-value\n",
        "alpha = 0.05\n",
        "print(\"p value is \" + str(p))\n",
        "if p <= alpha:\n",
        "    print('Dependent (reject H0)')\n",
        "else:\n",
        "    print('Independent (H0 holds true)')"
      ],
      "metadata": {
        "colab": {
          "base_uri": "https://localhost:8080/"
        },
        "id": "gvudzYL_fzhy",
        "outputId": "9b5b544e-616c-42af-d71b-dc5c9cbdf469"
      },
      "execution_count": null,
      "outputs": [
        {
          "output_type": "stream",
          "name": "stdout",
          "text": [
            "p value is 0.1031971404730939\n",
            "Independent (H0 holds true)\n"
          ]
        }
      ]
    },
    {
      "cell_type": "markdown",
      "source": [
        "Que.13 Write a Python program to calculate the expected frequencies for a Chi-square test based on observed\n",
        "data."
      ],
      "metadata": {
        "id": "Soa0dKVtgIWa"
      }
    },
    {
      "cell_type": "code",
      "source": [
        "import numpy as np\n",
        "\n",
        "def calculate_expected_frequencies(observed):\n",
        "    \"\"\"\n",
        "    Calculate the expected frequencies for a chi-square test.\n",
        "\n",
        "    Parameters:\n",
        "    observed (2D list or numpy array): The observed frequencies in a contingency table.\n",
        "\n",
        "    Returns:\n",
        "    numpy array: The expected frequencies.\n",
        "    \"\"\"\n",
        "    observed = np.array(observed)\n",
        "    row_totals = observed.sum(axis=1)\n",
        "    col_totals = observed.sum(axis=0)\n",
        "    total = observed.sum()\n",
        "\n",
        "    expected = np.outer(row_totals, col_totals) / total\n",
        "    return expected\n",
        "\n",
        "# Example usage\n",
        "observed_data = [\n",
        "    [10, 20, 30],\n",
        "    [20, 30, 40],\n",
        "    [30, 40, 50]\n",
        "]\n",
        "\n",
        "expected_frequencies = calculate_expected_frequencies(observed_data)\n",
        "print(\"Expected Frequencies:\")\n",
        "print(expected_frequencies)"
      ],
      "metadata": {
        "colab": {
          "base_uri": "https://localhost:8080/"
        },
        "id": "keYBdYoQgOOA",
        "outputId": "e242551e-3b86-4137-e974-e6c482881c75"
      },
      "execution_count": null,
      "outputs": [
        {
          "output_type": "stream",
          "name": "stdout",
          "text": [
            "Expected Frequencies:\n",
            "[[13.33333333 20.         26.66666667]\n",
            " [20.         30.         40.        ]\n",
            " [26.66666667 40.         53.33333333]]\n"
          ]
        }
      ]
    },
    {
      "cell_type": "markdown",
      "source": [
        "Qe.14 Perform a goodness-of-fit test using Python to compare the observed data to an expected distribution"
      ],
      "metadata": {
        "id": "i-QIRsibgSrX"
      }
    },
    {
      "cell_type": "code",
      "source": [
        "import numpy as np\n",
        "from scipy.stats import chisquare\n",
        "\n",
        "# Observed and expected data\n",
        "observed = np.array([18, 22, 20, 25, 15])\n",
        "expected = np.array([20, 20, 20, 20, 20])\n",
        "\n",
        "# Perform the Chi-Square goodness of fit test\n",
        "chi2_stat, p_val = chisquare(f_obs=observed, f_exp=expected)\n",
        "\n",
        "# Print the results\n",
        "print(f\"Chi-Square Statistic: {chi2_stat}\")\n",
        "print(f\"P-Value: {p_val}\")\n",
        "\n",
        "# Interpret the results\n",
        "if p_val < 0.05:\n",
        "    print(\"The observed data significantly differs from the expected distribution.\")\n",
        "else:\n",
        "    print(\"The observed data does not significantly differ from the expected distribution.\")"
      ],
      "metadata": {
        "colab": {
          "base_uri": "https://localhost:8080/"
        },
        "id": "_SwnXn83gYry",
        "outputId": "39873dca-d918-45b1-99a7-c0658ebcc9fc"
      },
      "execution_count": null,
      "outputs": [
        {
          "output_type": "stream",
          "name": "stdout",
          "text": [
            "Chi-Square Statistic: 2.9\n",
            "P-Value: 0.5746972058298043\n",
            "The observed data does not significantly differ from the expected distribution.\n"
          ]
        }
      ]
    },
    {
      "cell_type": "markdown",
      "source": [
        "Que.15  Create a Python script to simulate and visualize the Chi-square distribution and discuss its characteristicsD"
      ],
      "metadata": {
        "id": "B8SAKXNZgu8g"
      }
    },
    {
      "cell_type": "code",
      "source": [
        "import numpy as np\n",
        "import matplotlib.pyplot as plt\n",
        "import scipy.stats as stats\n",
        "\n",
        "# Parameters\n",
        "df = 5  # degrees of freedom\n",
        "size = 1000  # number of samples\n",
        "\n",
        "# Simulate Chi-Square distribution\n",
        "chi_square_data = np.random.chisquare(df, size)\n",
        "\n",
        "# Plotting the distribution\n",
        "plt.figure(figsize=(10, 6))\n",
        "plt.hist(chi_square_data, bins=30, density=True, alpha=0.6, color='g', label='Simulated Data')\n",
        "\n",
        "# Plot the theoretical Chi-Square distribution\n",
        "x = np.linspace(0, np.max(chi_square_data), 1000)\n",
        "plt.plot(x, stats.chi2.pdf(x, df), 'r-', lw=2, label='Theoretical PDF')\n",
        "\n",
        "# Adding titles and labels\n",
        "plt.title('Chi-Square Distribution (df = {})'.format(df))\n",
        "plt.xlabel('Value')\n",
        "plt.ylabel('Frequency')\n",
        "plt.legend()\n",
        "plt.grid(True)\n",
        "plt.show()"
      ],
      "metadata": {
        "colab": {
          "base_uri": "https://localhost:8080/",
          "height": 564
        },
        "id": "BlaJo7oJg_KE",
        "outputId": "1396d7e4-5808-4f8f-fbfb-566e4b87653f"
      },
      "execution_count": null,
      "outputs": [
        {
          "output_type": "display_data",
          "data": {
            "text/plain": [
              "<Figure size 1000x600 with 1 Axes>"
            ],
            "image/png": "[encoded data removed]"
          },
          "metadata": {}
        }
      ]
    },
    {
      "cell_type": "markdown",
      "source": [
        "Que.16  Implement an F-test using Python to compare the variances of two random samples"
      ],
      "metadata": {
        "id": "dS3Sa5knhLap"
      }
    },
    {
      "cell_type": "code",
      "source": [
        "import numpy as np\n",
        "from scipy.stats import f\n",
        "\n",
        "# Generate two random samples\n",
        "np.random.seed(0)  # For reproducibility\n",
        "sample1 = np.random.normal(loc=10, scale=2, size=100)\n",
        "sample2 = np.random.normal(loc=10, scale=3, size=100)\n",
        "\n",
        "# Calculate the variances of the samples\n",
        "var1 = np.var(sample1, ddof=1)\n",
        "var2 = np.var(sample2, ddof=1)\n",
        "\n",
        "# Calculate the F-statistic\n",
        "f_statistic = var1 / var2 if var1 > var2 else var2 / var1\n",
        "\n",
        "# Degrees of freedom\n",
        "df1 = len(sample1) - 1\n",
        "df2 = len(sample2) - 1\n",
        "\n",
        "# Calculate the p-value\n",
        "p_value = 1 - f.cdf(f_statistic, df1, df2)\n",
        "\n",
        "# Print the results\n",
        "print(f\"F-statistic: {f_statistic}\")\n",
        "print(f\"p-value: {p_value}\")\n",
        "\n",
        "# Determine if the variances are significantly different\n",
        "alpha = 0.05\n",
        "if p_value < alpha:\n",
        "    print(\"The variances are significantly different.\")\n",
        "else:\n",
        "    print(\"The variances are not significantly different.\")"
      ],
      "metadata": {
        "colab": {
          "base_uri": "https://localhost:8080/"
        },
        "id": "ZkEtnv70hQOp",
        "outputId": "874f53a1-bbea-4599-bce2-41c085fa80df"
      },
      "execution_count": null,
      "outputs": [
        {
          "output_type": "stream",
          "name": "stdout",
          "text": [
            "F-statistic: 2.3711778117559863\n",
            "p-value: 1.217507571937837e-05\n",
            "The variances are significantly different.\n"
          ]
        }
      ]
    },
    {
      "cell_type": "markdown",
      "source": [
        "Que.17 Write a Python program to perform an ANOVA test to compare means between multiple groups and\n",
        "interpret the results."
      ],
      "metadata": {
        "id": "bMorBlvkhfjU"
      }
    },
    {
      "cell_type": "code",
      "source": [
        "import numpy as np\n",
        "import scipy.stats as stats\n",
        "\n",
        "# Sample data: three groups with different means\n",
        "group1 = [23, 20, 22, 21, 24]\n",
        "group2 = [30, 31, 29, 32, 30]\n",
        "group3 = [35, 36, 34, 37, 35]\n",
        "\n",
        "# Perform one-way ANOVA\n",
        "f_statistic, p_value = stats.f_oneway(group1, group2, group3)\n",
        "\n",
        "# Print the results\n",
        "print(f\"F-statistic: {f_statistic}\")\n",
        "print(f\"P-value: {p_value}\")\n",
        "\n",
        "# Interpretation of the results\n",
        "alpha = 0.05\n",
        "if p_value < alpha:\n",
        "    print(\"The differences between group means are statistically significant (reject the null hypothesis).\")\n",
        "else:\n",
        "    print(\"The differences between group means are not statistically significant (fail to reject the null hypothesis).\")"
      ],
      "metadata": {
        "colab": {
          "base_uri": "https://localhost:8080/"
        },
        "id": "LMfXdMdehlFk",
        "outputId": "0186aa8f-97a0-4b84-ba59-bf95eea45e62"
      },
      "execution_count": null,
      "outputs": [
        {
          "output_type": "stream",
          "name": "stdout",
          "text": [
            "F-statistic: 134.86274509803934\n",
            "P-value: 5.972148758947357e-09\n",
            "The differences between group means are statistically significant (reject the null hypothesis).\n"
          ]
        }
      ]
    },
    {
      "cell_type": "markdown",
      "source": [
        "Que.18  Perform a one-way ANOVA test using Python to compare the means of different groups and plot the results"
      ],
      "metadata": {
        "id": "Jg-iTvGoh1rK"
      }
    },
    {
      "cell_type": "code",
      "source": [
        "import numpy as np\n",
        "import scipy.stats as stats\n",
        "import matplotlib.pyplot as plt\n",
        "import seaborn as sns\n",
        "np.random.seed(42)\n",
        "group1 = np.random.normal(20, 5, 30)\n",
        "group2 = np.random.normal(22, 5, 30)\n",
        "group3 = np.random.normal(19, 5, 30)\n",
        "# Perform one-way ANOVA\n",
        "f_statistic, p_value = stats.f_oneway(group1, group2, group3)\n",
        "\n",
        "print(f\"F-statistic: {f_statistic}\")\n",
        "print(f\"P-value: {p_value}\")\n",
        "# Combine data into a single DataFrame for plotting\n",
        "import pandas as pd\n",
        "\n",
        "data = {\n",
        "    'Group': ['Group 1']*30 + ['Group 2']*30 + ['Group 3']*30,\n",
        "    'Values': np.concatenate([group1, group2, group3])\n",
        "}\n",
        "\n",
        "df = pd.DataFrame(data)\n",
        "\n",
        "# Plotting\n",
        "plt.figure(figsize=(10, 6))\n",
        "sns.boxplot(x='Group', y='Values', data=df)\n",
        "plt.title('Boxplot of Different Groups')\n",
        "plt.xlabel('Group')\n",
        "plt.ylabel('Values')\n",
        "plt.show()"
      ],
      "metadata": {
        "colab": {
          "base_uri": "https://localhost:8080/",
          "height": 599
        },
        "id": "bro7K00Kh37-",
        "outputId": "ddc8c5ef-cf05-4e3c-8656-0dab13226b96"
      },
      "execution_count": null,
      "outputs": [
        {
          "output_type": "stream",
          "name": "stdout",
          "text": [
            "F-statistic: 2.4531488041105005\n",
            "P-value: 0.09195348503821356\n"
          ]
        },
        {
          "output_type": "display_data",
          "data": {
            "text/plain": [
              "<Figure size 1000x600 with 1 Axes>"
            ],
            "image/png": "[encoded data removed]"
          },
          "metadata": {}
        }
      ]
    },
    {
      "cell_type": "markdown",
      "source": [
        "Que.19 Write a Python function to check the assumptions (normality, independence, and equal variance) for ANOVA."
      ],
      "metadata": {
        "id": "LcXy4XWriWSl"
      }
    },
    {
      "cell_type": "code",
      "source": [
        "import numpy as np\n",
        "import scipy.stats as stats\n",
        "import matplotlib.pyplot as plt\n",
        "import seaborn as sns\n",
        "\n",
        "def check_anova_assumptions(data, group_col, value_col):\n",
        "    \"\"\"\n",
        "    Check assumptions for ANOVA: normality, independence, and equal variance.\n",
        "\n",
        "    Parameters:\n",
        "    data (pd.DataFrame): The dataset containing the groups and values.\n",
        "    group_col (str): The column name for the groups.\n",
        "    value_col (str): The column name for the values.\n",
        "\n",
        "    Returns:\n",
        "    dict: A dictionary with the results of the assumption checks.\n",
        "    \"\"\"\n",
        "    results = {}\n",
        "\n",
        "    # Normality check using Shapiro-Wilk test\n",
        "    normality_pvalues = {}\n",
        "    for group in data[group_col].unique():\n",
        "        group_data = data[data[group_col] == group][value_col]\n",
        "        stat, p_value = stats.shapiro(group_data)\n",
        "        normality_pvalues[group] = p_value\n",
        "    results['normality'] = normality_pvalues\n",
        "\n",
        "    # Independence check (visual inspection of residuals)\n",
        "    # For independence, we typically rely on the study design rather than a statistical test.\n",
        "    # Here, we will plot residuals to visually inspect independence.\n",
        "    model = ols(f'{value_col} ~ C({group_col})', data=data).fit()\n",
        "    residuals = model.resid\n",
        "    plt.figure(figsize=(10, 6))\n",
        "    plt.plot(residuals, marker='o', linestyle='')\n",
        "    plt.axhline(y=0, color='r', linestyle='--')\n",
        "    plt.title('Residuals Plot for Independence Check')\n",
        "    plt.xlabel('Observation')\n",
        "    plt.ylabel('Residuals')\n",
        "    plt.show()\n",
        "\n",
        "    # Equal variance check using Levene's test\n",
        "    groups = [data[data[group_col] == group][value_col] for group in data[group_col].unique()]\n",
        "    stat, p_value = stats.levene(*groups)\n",
        "    results['equal_variance'] = p_value\n",
        "\n",
        "    return results\n",
        "\n",
        "# Example usage:\n",
        "# import pandas as pd\n",
        "# data = pd.DataFrame({\n",
        "#     'group': ['A', 'A', 'B', 'B', 'C', 'C'],\n",
        "#     'value': [23, 25, 30, 29, 35, 33]\n",
        "# })\n",
        "# results = check_anova_assumptions(data, 'group', 'value')\n",
        "# print(results)"
      ],
      "metadata": {
        "id": "VzCld5SKibAO"
      },
      "execution_count": null,
      "outputs": []
    },
    {
      "cell_type": "markdown",
      "source": [
        "Que.20  Perform a two-way ANOVA test using Python to study the interaction between two factors and visualize the\n",
        "results"
      ],
      "metadata": {
        "id": "yhEoDIBHiwJg"
      }
    },
    {
      "cell_type": "code",
      "source": [
        "import pandas as pd\n",
        "import statsmodels.api as sm\n",
        "from statsmodels.formula.api import ols\n",
        "import matplotlib.pyplot as plt\n",
        "import seaborn as sns\n",
        "data = {\n",
        "    'Factor1': ['A', 'A', 'A', 'B', 'B', 'B', 'C', 'C', 'C'] * 2,\n",
        "    'Factor2': ['X', 'Y'] * 9,\n",
        "    'Response': [23, 45, 12, 34, 56, 78, 21, 43, 65, 32, 54, 76, 19, 41, 63, 30, 52, 74]\n",
        "}\n",
        "\n",
        "df = pd.DataFrame(data)\n",
        "# Define the model\n",
        "model = ols('Response ~ C(Factor1) * C(Factor2)', data=df).fit()\n",
        "\n",
        "# Perform ANOVA\n",
        "anova_table = sm.stats.anova_lm(model, typ=2)\n",
        "print(anova_table)\n",
        "# Interaction plot\n",
        "sns.pointplot(x='Factor1', y='Response', hue='Factor2', data=df, markers=[\"o\", \"s\"], linestyles=[\"-\", \"--\"])\n",
        "plt.title('Interaction Plot')\n",
        "plt.show()"
      ],
      "metadata": {
        "colab": {
          "base_uri": "https://localhost:8080/",
          "height": 559
        },
        "id": "MbktZ7t7izQ8",
        "outputId": "62754919-eb62-4f71-ac88-7974ef0873ea"
      },
      "execution_count": null,
      "outputs": [
        {
          "output_type": "stream",
          "name": "stdout",
          "text": [
            "                            sum_sq    df         F    PR(>F)\n",
            "C(Factor1)              238.111111   2.0  0.228562  0.799062\n",
            "C(Factor2)              430.222222   1.0  0.825939  0.381340\n",
            "C(Factor1):C(Factor2)   303.444444   2.0  0.291276  0.752446\n",
            "Residual               6250.666667  12.0       NaN       NaN\n"
          ]
        },
        {
          "output_type": "display_data",
          "data": {
            "text/plain": [
              "<Figure size 640x480 with 1 Axes>"
            ],
            "image/png": "[encoded data removed]"
          },
          "metadata": {}
        }
      ]
    },
    {
      "cell_type": "markdown",
      "source": [
        "Que.21 Write a Python program to visualize the F-distribution and discuss its use in hypothesis testing"
      ],
      "metadata": {
        "id": "SaqTGQEtjQnP"
      }
    },
    {
      "cell_type": "code",
      "source": [
        "import numpy as np\n",
        "import matplotlib.pyplot as plt\n",
        "from scipy.stats import f\n",
        "\n",
        "# Parameters for the F-distribution\n",
        "dof1 = 5  # degrees of freedom for the numerator\n",
        "dof2 = 10  # degrees of freedom for the denominator\n",
        "\n",
        "# Generate x values\n",
        "x = np.linspace(0, 5, 1000)\n",
        "\n",
        "# Compute the F-distribution PDF\n",
        "y = f.pdf(x, dof1, dof2)\n",
        "\n",
        "# Plot the F-distribution\n",
        "plt.figure(figsize=(10, 6))\n",
        "plt.plot(x, y, 'b-', label=f'F-distribution (dof1={dof1}, dof2={dof2})')\n",
        "plt.fill_between(x, y, alpha=0.2, color='blue')\n",
        "plt.title('F-Distribution')\n",
        "plt.xlabel('x')\n",
        "plt.ylabel('Probability Density Function')\n",
        "plt.legend()\n",
        "plt.grid(True)\n",
        "plt.show()"
      ],
      "metadata": {
        "colab": {
          "base_uri": "https://localhost:8080/",
          "height": 564
        },
        "id": "ojcTl7X1jaMc",
        "outputId": "8aaf4f2b-4400-4e10-db8d-040fdb73443c"
      },
      "execution_count": null,
      "outputs": [
        {
          "output_type": "display_data",
          "data": {
            "text/plain": [
              "<Figure size 1000x600 with 1 Axes>"
            ],
            "image/png": "[encoded data removed]"
          },
          "metadata": {}
        }
      ]
    },
    {
      "cell_type": "markdown",
      "source": [
        "Que.22 Perform a one-way ANOVA test in Python and visualize the results with boxplots to compare group means"
      ],
      "metadata": {
        "id": "YuS1d2QUjkEW"
      }
    },
    {
      "cell_type": "code",
      "source": [
        "import pandas as pd\n",
        "import numpy as np\n",
        "from scipy import stats\n",
        "import seaborn as sns\n",
        "import matplotlib.pyplot as plt\n",
        "\n",
        "# Sample data\n",
        "np.random.seed(42)\n",
        "group1 = np.random.normal(20, 5, 30)\n",
        "group2 = np.random.normal(22, 5, 30)\n",
        "group3 = np.random.normal(19, 5, 30)\n",
        "\n",
        "# Combine into a DataFrame\n",
        "data = pd.DataFrame({\n",
        "    'value': np.concatenate([group1, group2, group3]),\n",
        "    'group': ['Group 1']*30 + ['Group 2']*30 + ['Group 3']*30\n",
        "})\n",
        "\n",
        "# Perform one-way ANOVA\n",
        "anova_result = stats.f_oneway(group1, group2, group3)\n",
        "print(f'F-statistic: {anova_result.statistic}, p-value: {anova_result.pvalue}')\n",
        "\n",
        "# Create a boxplot\n",
        "plt.figure(figsize=(10, 6))\n",
        "sns.boxplot(x='group', y='value', data=data)\n",
        "plt.title('Boxplot of Group Values')\n",
        "plt.xlabel('Group')\n",
        "plt.ylabel('Value')\n",
        "plt.show()"
      ],
      "metadata": {
        "colab": {
          "base_uri": "https://localhost:8080/",
          "height": 581
        },
        "id": "wjCbdOixjsuM",
        "outputId": "8a413f82-fce0-496a-d442-bf70d6005447"
      },
      "execution_count": null,
      "outputs": [
        {
          "output_type": "stream",
          "name": "stdout",
          "text": [
            "F-statistic: 2.4531488041105005, p-value: 0.09195348503821356\n"
          ]
        },
        {
          "output_type": "display_data",
          "data": {
            "text/plain": [
              "<Figure size 1000x600 with 1 Axes>"
            ],
            "image/png": "[encoded data removed]"
          },
          "metadata": {}
        }
      ]
    },
    {
      "cell_type": "markdown",
      "source": [
        "Que.23 Simulate random data from a normal distribution, then perform hypothesis testing to evaluate the means"
      ],
      "metadata": {
        "id": "ehXZqJiOkBZK"
      }
    },
    {
      "cell_type": "code",
      "source": [
        "import numpy as np\n",
        "from scipy import stats\n",
        "np.random.seed(42)  # For reproducibility\n",
        "data1 = np.random.normal(loc=50, scale=10, size=100)  # Mean=50, Std=10, n=100\n",
        "data2 = np.random.normal(loc=52, scale=10, size=100)  # Mean=52, Std=10, n=100\n",
        "\n",
        "# Perform hypothesis testing (two-sample t-test)\n",
        "t_stat, p_value = stats.ttest_ind(data1, data2)\n",
        "\n",
        "# Output the results\n",
        "print(f\"T-statistic: {t_stat:.4f}\")\n",
        "print(f\"P-value: {p_value:.4f}\")\n",
        "\n",
        "# Interpretation\n",
        "alpha = 0.05\n",
        "if p_value < alpha:\n",
        "    print(\"Reject the null hypothesis: The means are significantly different.\")\n",
        "else:\n",
        "    print(\"Fail to reject the null hypothesis: The means are not significantly different.\")"
      ],
      "metadata": {
        "colab": {
          "base_uri": "https://localhost:8080/"
        },
        "id": "QA9XjaPmkFW6",
        "outputId": "8f60dce5-ee3f-4fc1-f3ae-ab969939a895"
      },
      "execution_count": null,
      "outputs": [
        {
          "output_type": "stream",
          "name": "stdout",
          "text": [
            "T-statistic: -2.4766\n",
            "P-value: 0.0141\n",
            "Reject the null hypothesis: The means are significantly different.\n"
          ]
        }
      ]
    },
    {
      "cell_type": "markdown",
      "source": [
        "Que.24 Perform a hypothesis test for population variance using a Chi-square distribution and interpret the results"
      ],
      "metadata": {
        "id": "nYUwU87XkWqF"
      }
    },
    {
      "cell_type": "code",
      "source": [
        "import numpy as np\n",
        "from scipy.stats import chi2\n",
        "\n",
        "# Hypothetical dataset\n",
        "data = np.array([10, 12, 9, 11, 13, 10, 14, 9, 12, 11])\n",
        "\n",
        "# Sample size\n",
        "n = len(data)\n",
        "\n",
        "# Sample variance\n",
        "sample_variance = np.var(data, ddof=1)\n",
        "\n",
        "# Hypothesized population variance\n",
        "sigma_0_squared = 4  # Example value\n",
        "\n",
        "# Test statistic\n",
        "chi_square_statistic = (n - 1) * sample_variance / sigma_0_squared\n",
        "\n",
        "# Degrees of freedom\n",
        "df = n - 1\n",
        "\n",
        "# Critical value for 95% confidence level (two-tailed test)\n",
        "alpha = 0.05\n",
        "critical_value_low = chi2.ppf(alpha / 2, df)\n",
        "critical_value_high = chi2.ppf(1 - alpha / 2, df)\n",
        "\n",
        "# P-value\n",
        "p_value = 2 * min(chi2.cdf(chi_square_statistic, df), 1 - chi2.cdf(chi_square_statistic, df))\n",
        "\n",
        "# Output results\n",
        "print(f\"Sample Variance: {sample_variance:.2f}\")\n",
        "print(f\"Chi-Square Statistic: {chi_square_statistic:.2f}\")\n",
        "print(f\"Degrees of Freedom: {df}\")\n",
        "print(f\"Critical Value (Low): {critical_value_low:.2f}\")\n",
        "print(f\"Critical Value (High): {critical_value_high:.2f}\")\n",
        "print(f\"P-value: {p_value:.4f}\")\n",
        "\n",
        "# Decision\n",
        "if chi_square_statistic < critical_value_low or chi_square_statistic > critical_value_high:\n",
        "    print(\"Reject the null hypothesis: The population variance is not equal to the hypothesized value.\")\n",
        "else:\n",
        "    print(\"Fail to reject the null hypothesis: There is not enough evidence to say the population variance is different from the hypothesized value.\")"
      ],
      "metadata": {
        "colab": {
          "base_uri": "https://localhost:8080/"
        },
        "id": "NJPyU8alkcF_",
        "outputId": "b6a4059c-dfea-40db-c468-0861ec71ed59"
      },
      "execution_count": null,
      "outputs": [
        {
          "output_type": "stream",
          "name": "stdout",
          "text": [
            "Sample Variance: 2.77\n",
            "Chi-Square Statistic: 6.23\n",
            "Degrees of Freedom: 9\n",
            "Critical Value (Low): 2.70\n",
            "Critical Value (High): 19.02\n",
            "P-value: 0.5656\n",
            "Fail to reject the null hypothesis: There is not enough evidence to say the population variance is different from the hypothesized value.\n"
          ]
        }
      ]
    },
    {
      "cell_type": "markdown",
      "source": [
        "Que.25  Write a Python script to perform a Z-test for comparing proportions between two datasets or groups"
      ],
      "metadata": {
        "id": "8klNDW1BkqpV"
      }
    },
    {
      "cell_type": "code",
      "source": [
        "import numpy as np\n",
        "import statsmodels.api as sm\n",
        "\n",
        "def z_test_proportions(success_a, size_a, success_b, size_b):\n",
        "    \"\"\"\n",
        "    Perform a Z-test for comparing proportions between two groups.\n",
        "\n",
        "    Parameters:\n",
        "    success_a (int): Number of successes in group A\n",
        "    size_a (int): Total number of observations in group A\n",
        "    success_b (int): Number of successes in group B\n",
        "    size_b (int): Total number of observations in group B\n",
        "\n",
        "    Returns:\n",
        "    z_stat (float): Z-statistic\n",
        "    p_value (float): P-value\n",
        "    \"\"\"\n",
        "    # Calculate the proportions\n",
        "    prop_a = success_a / size_a\n",
        "    prop_b = success_b / size_b\n",
        "\n",
        "    # Calculate the pooled proportion\n",
        "    pooled_prop = (success_a + success_b) / (size_a + size_b)\n",
        "\n",
        "    # Calculate the standard error\n",
        "    se = np.sqrt(pooled_prop * (1 - pooled_prop) * (1/size_a + 1/size_b))\n",
        "\n",
        "    # Calculate the Z-statistic\n",
        "    z_stat = (prop_a - prop_b) / se\n",
        "\n",
        "\n",
        "    return z_stat, p_value\n",
        "\n",
        "# Example usage\n",
        "success_a = 50\n",
        "size_a = 200\n",
        "success_b = 30\n",
        "size_b = 180\n",
        "\n",
        "z_stat, p_value = z_test_proportions(success_a, size_a, success_b, size_b)\n",
        "print(f\"Z-statistic: {z_stat:.4f}\")\n",
        "print(f\"P-value: {p_value:.4f}\")"
      ],
      "metadata": {
        "colab": {
          "base_uri": "https://localhost:8080/"
        },
        "id": "3Y0HR86zl_Kb",
        "outputId": "892afbdd-a3f6-484f-a644-c2447d9c07cb"
      },
      "execution_count": null,
      "outputs": [
        {
          "output_type": "stream",
          "name": "stdout",
          "text": [
            "Z-statistic: 1.9896\n",
            "P-value: 0.5656\n"
          ]
        }
      ]
    },
    {
      "cell_type": "markdown",
      "source": [
        "Que.26  Implement an F-test for comparing the variances of two datasets, then interpret and visualize the results"
      ],
      "metadata": {
        "id": "m2uS3ltomKp5"
      }
    },
    {
      "cell_type": "code",
      "source": [
        "import numpy as np\n",
        "import scipy.stats as stats\n",
        "import matplotlib.pyplot as plt\n",
        "import seaborn as sns\n",
        "\n",
        "# Generate random data\n",
        "np.random.seed(42)\n",
        "data1 = np.random.normal(loc=50, scale=10, size=100)\n",
        "data2 = np.random.normal(loc=55, scale=15, size=100)\n",
        "\n",
        "# Calculate the variances\n",
        "var1 = np.var(data1, ddof=1)\n",
        "var2 = np.var(data2, ddof=1)\n",
        "\n",
        "# Perform the F-test\n",
        "f_statistic = var1 / var2\n",
        "dof1 = len(data1) - 1\n",
        "dof2 = len(data2) - 1\n",
        "p_value = 1 - stats.f.cdf(f_statistic, dof1, dof2)\n",
        "\n",
        "print(f\"F-statistic: {f_statistic}\")\n",
        "print(f\"P-value: {p_value}\")\n",
        "\n",
        "# Box plot\n",
        "plt.figure(figsize=(10, 5))\n",
        "sns.boxplot(data=[data1, data2])\n",
        "plt.xticks([0, 1], ['Data1', 'Data2'])\n",
        "plt.title('Box Plot of Data1 and Data2')\n",
        "plt.show()\n",
        "\n",
        "# Histograms\n",
        "plt.figure(figsize=(10, 5))\n",
        "sns.histplot(data1, kde=True, color='blue', label='Data1', bins=20)\n",
        "sns.histplot(data2, kde=True, color='orange', label='Data2', bins=20)\n",
        "plt.legend()\n",
        "plt.title('Histogram of Data1 and Data2')\n",
        "plt.show()"
      ],
      "metadata": {
        "colab": {
          "base_uri": "https://localhost:8080/",
          "height": 954
        },
        "id": "39X_5uYOmSkn",
        "outputId": "c3825f3f-39ed-408e-b4ae-976057919edd"
      },
      "execution_count": null,
      "outputs": [
        {
          "output_type": "stream",
          "name": "stdout",
          "text": [
            "F-statistic: 0.40304633927638583\n",
            "P-value: 0.9999954041876621\n"
          ]
        },
        {
          "output_type": "display_data",
          "data": {
            "text/plain": [
              "<Figure size 1000x500 with 1 Axes>"
            ],
            "image/png": "[encoded data removed]"
          },
          "metadata": {}
        },
        {
          "output_type": "display_data",
          "data": {
            "text/plain": [
              "<Figure size 1000x500 with 1 Axes>"
            ],
            "image/png": "[encoded data removed]"
          },
          "metadata": {}
        }
      ]
    },
    {
      "cell_type": "markdown",
      "source": [
        "Que.27  Perform a Chi-square test for goodness of fit with simulated data and analyze the results"
      ],
      "metadata": {
        "id": "2SvJJgzem02z"
      }
    },
    {
      "cell_type": "code",
      "source": [
        "import numpy as np\n",
        "from scipy.stats import chisquare\n",
        "\n",
        "# Simulate observed data\n",
        "observed_frequencies = np.array([50, 30, 15, 5])\n",
        "\n",
        "# Define expected frequencies\n",
        "total_observed = np.sum(observed_frequencies)\n",
        "num_categories = len(observed_frequencies)\n",
        "expected_frequencies = np.full(num_categories, total_observed / num_categories)\n",
        "\n",
        "# Perform Chi-Square test\n",
        "chi2_stat, p_value = chisquare(observed_frequencies, expected_frequencies)\n",
        "\n",
        "# Print the results\n",
        "print(f\"Chi-Square Statistic: {chi2_stat}\")\n",
        "print(f\"P-Value: {p_value}\")\n",
        "\n",
        "# Interpretation\n",
        "alpha = 0.05\n",
        "if p_value < alpha:\n",
        "    print(\"Reject the null hypothesis: The observed frequencies do not match the expected frequencies.\")\n",
        "else:\n",
        "    print(\"Fail to reject the null hypothesis: The observed frequencies match the expected frequencies.\")"
      ],
      "metadata": {
        "colab": {
          "base_uri": "https://localhost:8080/"
        },
        "id": "v01XL2GXm5_f",
        "outputId": "a21d3d7c-3719-4516-9425-6dfe6949c3d3"
      },
      "execution_count": null,
      "outputs": [
        {
          "output_type": "stream",
          "name": "stdout",
          "text": [
            "Chi-Square Statistic: 46.0\n",
            "P-Value: 5.671485959912443e-10\n",
            "Reject the null hypothesis: The observed frequencies do not match the expected frequencies.\n"
          ]
        }
      ]
    }
  ]
}